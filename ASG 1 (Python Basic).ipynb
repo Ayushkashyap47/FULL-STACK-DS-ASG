{
 "cells": [
  {
   "cell_type": "markdown",
   "metadata": {},
   "source": [
    "ANSWERS"
   ]
  },
  {
   "cell_type": "code",
   "execution_count": 2,
   "metadata": {},
   "outputs": [],
   "source": [
    "# Ans 1\n",
    "# * , + , - , / - Operators\n",
    "#  'hello', -87.8, 6 - Values"
   ]
  },
  {
   "cell_type": "code",
   "execution_count": 3,
   "metadata": {},
   "outputs": [],
   "source": [
    "# Ans 2\n",
    "# spam - Variable\n",
    "# 'spam'- String \n",
    "# String always starts and ends with quotes"
   ]
  },
  {
   "cell_type": "code",
   "execution_count": 4,
   "metadata": {},
   "outputs": [],
   "source": [
    "# Ans 3\n",
    "# The 3 different data types are Integers , Floating points, Strings.\n",
    "# Integer (int): represents positive or negative whole numbers like 3 or -512.\n",
    "# Floating point number (float): represents real numbers like 3.14159 or -2.5.\n",
    "# Character string (usually called “string”, str): text"
   ]
  },
  {
   "cell_type": "code",
   "execution_count": 5,
   "metadata": {},
   "outputs": [],
   "source": [
    "# Ans 4\n",
    "# An expression is a combination of values and operators. All expressions evaluate (that is, reduce) to a single value."
   ]
  },
  {
   "cell_type": "code",
   "execution_count": 6,
   "metadata": {},
   "outputs": [],
   "source": [
    "# Ans 5\n",
    "# An expression evaluates to a single value. A statement does not."
   ]
  },
  {
   "cell_type": "code",
   "execution_count": 8,
   "metadata": {},
   "outputs": [],
   "source": [
    "# Ans 6 \n",
    "# The bacon variable is set to 22. Performing bacon + 1 won't change/ reassign the value of bacon."
   ]
  },
  {
   "cell_type": "code",
   "execution_count": 9,
   "metadata": {},
   "outputs": [],
   "source": [
    "# Ans 7\n",
    "# Both expressions evaluate to the string 'spamspamspam'."
   ]
  },
  {
   "cell_type": "code",
   "execution_count": 10,
   "metadata": {},
   "outputs": [],
   "source": [
    "# Ans 8 \n",
    "# Variables cannot start from a number hence 100 cannot be a variable but eggs can."
   ]
  },
  {
   "cell_type": "code",
   "execution_count": 11,
   "metadata": {},
   "outputs": [],
   "source": [
    "# Ans 9\n",
    "# The int(), float(), and str() functions will evaluate to the integer, floating point number, and string versions of the value passed to them."
   ]
  },
  {
   "cell_type": "code",
   "execution_count": 12,
   "metadata": {},
   "outputs": [],
   "source": [
    "# Ans 10\n",
    "# The error is 99 in th expression. Since 99 is an interger we will get error. We need to convert 99 into string by using str().\n",
    "# Correct way will be 'I have eaten'+str(99)+'burritos'."
   ]
  }
 ],
 "metadata": {
  "kernelspec": {
   "display_name": "Python 3",
   "language": "python",
   "name": "python3"
  },
  "language_info": {
   "codemirror_mode": {
    "name": "ipython",
    "version": 3
   },
   "file_extension": ".py",
   "mimetype": "text/x-python",
   "name": "python",
   "nbconvert_exporter": "python",
   "pygments_lexer": "ipython3",
   "version": "3.8.5"
  }
 },
 "nbformat": 4,
 "nbformat_minor": 4
}
